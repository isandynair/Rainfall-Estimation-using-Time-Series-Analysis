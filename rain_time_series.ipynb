{
  "nbformat": 4,
  "nbformat_minor": 0,
  "metadata": {
    "colab": {
      "name": "rain_time_series.ipynb",
      "provenance": [],
      "collapsed_sections": []
    },
    "kernelspec": {
      "name": "python3",
      "display_name": "Python 3"
    }
  },
  "cells": [
    {
      "cell_type": "markdown",
      "metadata": {
        "id": "WuCNzVJuvI-r"
      },
      "source": [
        "## Getting Data"
      ]
    },
    {
      "cell_type": "code",
      "metadata": {
        "id": "7o4GHMTQWayU",
        "colab": {
          "base_uri": "https://localhost:8080/"
        },
        "outputId": "1d9ef5c2-fa56-4c55-b900-831911dc8207"
      },
      "source": [
        "from google.colab import drive\n",
        "drive.mount('/content/drive')"
      ],
      "execution_count": 2,
      "outputs": [
        {
          "output_type": "stream",
          "text": [
            "Mounted at /content/drive\n"
          ],
          "name": "stdout"
        }
      ]
    },
    {
      "cell_type": "code",
      "metadata": {
        "id": "3N6Gcr50byWk"
      },
      "source": [
        "import os\n",
        "os.environ['KAGGLE_CONFIG_DIR'] = \"/content/drive/My Drive/Kaggle\""
      ],
      "execution_count": 3,
      "outputs": []
    },
    {
      "cell_type": "code",
      "metadata": {
        "colab": {
          "base_uri": "https://localhost:8080/"
        },
        "id": "LefUGHZBb_Jp",
        "outputId": "1521f185-a449-49f0-b728-1f5720588104"
      },
      "source": [
        "%cd /content/drive/My Drive/Kaggle"
      ],
      "execution_count": 5,
      "outputs": [
        {
          "output_type": "stream",
          "text": [
            "/content/drive/My Drive/Kaggle\n"
          ],
          "name": "stdout"
        }
      ]
    },
    {
      "cell_type": "code",
      "metadata": {
        "colab": {
          "base_uri": "https://localhost:8080/"
        },
        "id": "UrzPg6axcMTT",
        "outputId": "719ddb04-94d7-4bb4-92e1-33438f3ea330"
      },
      "source": [
        "!kaggle competitions download -c how-much-did-it-rain-ii"
      ],
      "execution_count": 6,
      "outputs": [
        {
          "output_type": "stream",
          "text": [
            "Warning: Looks like you're using an outdated API Version, please consider updating (server 1.5.10 / client 1.5.4)\n",
            "Downloading sample_solution.csv.zip to /content/drive/My Drive/Kaggle\n",
            "  0% 0.00/4.40M [00:00<?, ?B/s]\n",
            "100% 4.40M/4.40M [00:00<00:00, 69.1MB/s]\n",
            "Downloading sample_dask.py to /content/drive/My Drive/Kaggle\n",
            "  0% 0.00/1.96k [00:00<?, ?B/s]\n",
            "100% 1.96k/1.96k [00:00<00:00, 277kB/s]\n",
            "Downloading test.zip to /content/drive/My Drive/Kaggle\n",
            " 96% 129M/135M [00:02<00:00, 78.4MB/s]\n",
            "100% 135M/135M [00:02<00:00, 57.1MB/s]\n",
            "Downloading train.zip to /content/drive/My Drive/Kaggle\n",
            " 96% 232M/240M [00:01<00:00, 158MB/s]\n",
            "100% 240M/240M [00:01<00:00, 142MB/s]\n"
          ],
          "name": "stdout"
        }
      ]
    },
    {
      "cell_type": "code",
      "metadata": {
        "colab": {
          "base_uri": "https://localhost:8080/"
        },
        "id": "SUVtVOxecYdM",
        "outputId": "3c471c58-81d3-412b-d2cc-1f5659c73a60"
      },
      "source": [
        "%ls"
      ],
      "execution_count": 7,
      "outputs": [
        {
          "output_type": "stream",
          "text": [
            "kaggle.json  sample_dask.py  sample_solution.csv.zip  test.zip  train.zip\n"
          ],
          "name": "stdout"
        }
      ]
    },
    {
      "cell_type": "code",
      "metadata": {
        "colab": {
          "base_uri": "https://localhost:8080/"
        },
        "id": "4ULeaeYTcdQ-",
        "outputId": "67c22170-19aa-45f2-d9a5-ff85a10319b1"
      },
      "source": [
        "!unzip \\*.zip  && rm *.zip"
      ],
      "execution_count": 8,
      "outputs": [
        {
          "output_type": "stream",
          "text": [
            "Archive:  sample_solution.csv.zip\n",
            "  inflating: sample_solution.csv     \n",
            "\n",
            "Archive:  test.zip\n",
            "  inflating: test.csv                \n",
            "\n",
            "Archive:  train.zip\n",
            "  inflating: train.csv               \n",
            "\n",
            "3 archives were successfully processed.\n"
          ],
          "name": "stdout"
        }
      ]
    },
    {
      "cell_type": "code",
      "metadata": {
        "id": "bHmZ_pn9c0t4"
      },
      "source": [
        "%mkdir rain_time_series\n",
        "%mv sample_dask.py sample_solution.csv test.csv train.csv ./rain_time_series"
      ],
      "execution_count": 9,
      "outputs": []
    },
    {
      "cell_type": "code",
      "metadata": {
        "colab": {
          "base_uri": "https://localhost:8080/"
        },
        "id": "dFvgpHI9dNsp",
        "outputId": "4d419a2b-a9a7-49af-e778-6be33f4a0ad7"
      },
      "source": [
        "%cd rain_time_series/"
      ],
      "execution_count": 10,
      "outputs": [
        {
          "output_type": "stream",
          "text": [
            "/content/drive/My Drive/Kaggle/rain_time_series\n"
          ],
          "name": "stdout"
        }
      ]
    },
    {
      "cell_type": "markdown",
      "metadata": {
        "id": "3pA1ABgLNfu0"
      },
      "source": [
        "## EDA"
      ]
    },
    {
      "cell_type": "code",
      "metadata": {
        "id": "nZye61qDMheX"
      },
      "source": [
        "import pandas as pd\n",
        "import numpy as np"
      ],
      "execution_count": 2,
      "outputs": []
    },
    {
      "cell_type": "code",
      "metadata": {
        "id": "8mray-urdIyy"
      },
      "source": [
        "train = pd.read_csv('train.csv')\n",
        "test = pd.read_csv('test.csv')\n",
        "\n",
        "train[train.columns[0]] = train[train.columns[0]].astype(np.int32)\n",
        "train[train.columns[1:]] = train[train.columns[1:]].astype(np.float32)"
      ],
      "execution_count": 2,
      "outputs": []
    },
    {
      "cell_type": "code",
      "metadata": {
        "colab": {
          "base_uri": "https://localhost:8080/",
          "height": 224
        },
        "id": "cuaoAoY8qbNO",
        "outputId": "49ea70ef-6722-48bf-ba5f-5a75d8eed3fd"
      },
      "source": [
        "train.head()"
      ],
      "execution_count": 3,
      "outputs": [
        {
          "output_type": "execute_result",
          "data": {
            "text/html": [
              "<div>\n",
              "<style scoped>\n",
              "    .dataframe tbody tr th:only-of-type {\n",
              "        vertical-align: middle;\n",
              "    }\n",
              "\n",
              "    .dataframe tbody tr th {\n",
              "        vertical-align: top;\n",
              "    }\n",
              "\n",
              "    .dataframe thead th {\n",
              "        text-align: right;\n",
              "    }\n",
              "</style>\n",
              "<table border=\"1\" class=\"dataframe\">\n",
              "  <thead>\n",
              "    <tr style=\"text-align: right;\">\n",
              "      <th></th>\n",
              "      <th>Id</th>\n",
              "      <th>minutes_past</th>\n",
              "      <th>radardist_km</th>\n",
              "      <th>Ref</th>\n",
              "      <th>Ref_5x5_10th</th>\n",
              "      <th>Ref_5x5_50th</th>\n",
              "      <th>Ref_5x5_90th</th>\n",
              "      <th>RefComposite</th>\n",
              "      <th>RefComposite_5x5_10th</th>\n",
              "      <th>RefComposite_5x5_50th</th>\n",
              "      <th>RefComposite_5x5_90th</th>\n",
              "      <th>RhoHV</th>\n",
              "      <th>RhoHV_5x5_10th</th>\n",
              "      <th>RhoHV_5x5_50th</th>\n",
              "      <th>RhoHV_5x5_90th</th>\n",
              "      <th>Zdr</th>\n",
              "      <th>Zdr_5x5_10th</th>\n",
              "      <th>Zdr_5x5_50th</th>\n",
              "      <th>Zdr_5x5_90th</th>\n",
              "      <th>Kdp</th>\n",
              "      <th>Kdp_5x5_10th</th>\n",
              "      <th>Kdp_5x5_50th</th>\n",
              "      <th>Kdp_5x5_90th</th>\n",
              "      <th>Expected</th>\n",
              "    </tr>\n",
              "  </thead>\n",
              "  <tbody>\n",
              "    <tr>\n",
              "      <th>0</th>\n",
              "      <td>1</td>\n",
              "      <td>3.0</td>\n",
              "      <td>10.0</td>\n",
              "      <td>NaN</td>\n",
              "      <td>NaN</td>\n",
              "      <td>NaN</td>\n",
              "      <td>NaN</td>\n",
              "      <td>NaN</td>\n",
              "      <td>NaN</td>\n",
              "      <td>NaN</td>\n",
              "      <td>NaN</td>\n",
              "      <td>NaN</td>\n",
              "      <td>NaN</td>\n",
              "      <td>NaN</td>\n",
              "      <td>NaN</td>\n",
              "      <td>NaN</td>\n",
              "      <td>NaN</td>\n",
              "      <td>NaN</td>\n",
              "      <td>NaN</td>\n",
              "      <td>NaN</td>\n",
              "      <td>NaN</td>\n",
              "      <td>NaN</td>\n",
              "      <td>NaN</td>\n",
              "      <td>0.254</td>\n",
              "    </tr>\n",
              "    <tr>\n",
              "      <th>1</th>\n",
              "      <td>1</td>\n",
              "      <td>16.0</td>\n",
              "      <td>10.0</td>\n",
              "      <td>NaN</td>\n",
              "      <td>NaN</td>\n",
              "      <td>NaN</td>\n",
              "      <td>NaN</td>\n",
              "      <td>NaN</td>\n",
              "      <td>NaN</td>\n",
              "      <td>NaN</td>\n",
              "      <td>NaN</td>\n",
              "      <td>NaN</td>\n",
              "      <td>NaN</td>\n",
              "      <td>NaN</td>\n",
              "      <td>NaN</td>\n",
              "      <td>NaN</td>\n",
              "      <td>NaN</td>\n",
              "      <td>NaN</td>\n",
              "      <td>NaN</td>\n",
              "      <td>NaN</td>\n",
              "      <td>NaN</td>\n",
              "      <td>NaN</td>\n",
              "      <td>NaN</td>\n",
              "      <td>0.254</td>\n",
              "    </tr>\n",
              "    <tr>\n",
              "      <th>2</th>\n",
              "      <td>1</td>\n",
              "      <td>25.0</td>\n",
              "      <td>10.0</td>\n",
              "      <td>NaN</td>\n",
              "      <td>NaN</td>\n",
              "      <td>NaN</td>\n",
              "      <td>NaN</td>\n",
              "      <td>NaN</td>\n",
              "      <td>NaN</td>\n",
              "      <td>NaN</td>\n",
              "      <td>NaN</td>\n",
              "      <td>NaN</td>\n",
              "      <td>NaN</td>\n",
              "      <td>NaN</td>\n",
              "      <td>NaN</td>\n",
              "      <td>NaN</td>\n",
              "      <td>NaN</td>\n",
              "      <td>NaN</td>\n",
              "      <td>NaN</td>\n",
              "      <td>NaN</td>\n",
              "      <td>NaN</td>\n",
              "      <td>NaN</td>\n",
              "      <td>NaN</td>\n",
              "      <td>0.254</td>\n",
              "    </tr>\n",
              "    <tr>\n",
              "      <th>3</th>\n",
              "      <td>1</td>\n",
              "      <td>35.0</td>\n",
              "      <td>10.0</td>\n",
              "      <td>NaN</td>\n",
              "      <td>NaN</td>\n",
              "      <td>NaN</td>\n",
              "      <td>NaN</td>\n",
              "      <td>NaN</td>\n",
              "      <td>NaN</td>\n",
              "      <td>NaN</td>\n",
              "      <td>NaN</td>\n",
              "      <td>NaN</td>\n",
              "      <td>NaN</td>\n",
              "      <td>NaN</td>\n",
              "      <td>NaN</td>\n",
              "      <td>NaN</td>\n",
              "      <td>NaN</td>\n",
              "      <td>NaN</td>\n",
              "      <td>NaN</td>\n",
              "      <td>NaN</td>\n",
              "      <td>NaN</td>\n",
              "      <td>NaN</td>\n",
              "      <td>NaN</td>\n",
              "      <td>0.254</td>\n",
              "    </tr>\n",
              "    <tr>\n",
              "      <th>4</th>\n",
              "      <td>1</td>\n",
              "      <td>45.0</td>\n",
              "      <td>10.0</td>\n",
              "      <td>NaN</td>\n",
              "      <td>NaN</td>\n",
              "      <td>NaN</td>\n",
              "      <td>NaN</td>\n",
              "      <td>NaN</td>\n",
              "      <td>NaN</td>\n",
              "      <td>NaN</td>\n",
              "      <td>NaN</td>\n",
              "      <td>NaN</td>\n",
              "      <td>NaN</td>\n",
              "      <td>NaN</td>\n",
              "      <td>NaN</td>\n",
              "      <td>NaN</td>\n",
              "      <td>NaN</td>\n",
              "      <td>NaN</td>\n",
              "      <td>NaN</td>\n",
              "      <td>NaN</td>\n",
              "      <td>NaN</td>\n",
              "      <td>NaN</td>\n",
              "      <td>NaN</td>\n",
              "      <td>0.254</td>\n",
              "    </tr>\n",
              "  </tbody>\n",
              "</table>\n",
              "</div>"
            ],
            "text/plain": [
              "   Id  minutes_past  radardist_km  ...  Kdp_5x5_50th  Kdp_5x5_90th  Expected\n",
              "0   1           3.0          10.0  ...           NaN           NaN     0.254\n",
              "1   1          16.0          10.0  ...           NaN           NaN     0.254\n",
              "2   1          25.0          10.0  ...           NaN           NaN     0.254\n",
              "3   1          35.0          10.0  ...           NaN           NaN     0.254\n",
              "4   1          45.0          10.0  ...           NaN           NaN     0.254\n",
              "\n",
              "[5 rows x 24 columns]"
            ]
          },
          "metadata": {
            "tags": []
          },
          "execution_count": 3
        }
      ]
    },
    {
      "cell_type": "code",
      "metadata": {
        "colab": {
          "base_uri": "https://localhost:8080/",
          "height": 441
        },
        "id": "nttnxqjame6m",
        "outputId": "1b727c53-6e37-4e9f-8df8-14dc9d657d6e"
      },
      "source": [
        "train[train.Id == 3]"
      ],
      "execution_count": 4,
      "outputs": [
        {
          "output_type": "execute_result",
          "data": {
            "text/html": [
              "<div>\n",
              "<style scoped>\n",
              "    .dataframe tbody tr th:only-of-type {\n",
              "        vertical-align: middle;\n",
              "    }\n",
              "\n",
              "    .dataframe tbody tr th {\n",
              "        vertical-align: top;\n",
              "    }\n",
              "\n",
              "    .dataframe thead th {\n",
              "        text-align: right;\n",
              "    }\n",
              "</style>\n",
              "<table border=\"1\" class=\"dataframe\">\n",
              "  <thead>\n",
              "    <tr style=\"text-align: right;\">\n",
              "      <th></th>\n",
              "      <th>Id</th>\n",
              "      <th>minutes_past</th>\n",
              "      <th>radardist_km</th>\n",
              "      <th>Ref</th>\n",
              "      <th>Ref_5x5_10th</th>\n",
              "      <th>Ref_5x5_50th</th>\n",
              "      <th>Ref_5x5_90th</th>\n",
              "      <th>RefComposite</th>\n",
              "      <th>RefComposite_5x5_10th</th>\n",
              "      <th>RefComposite_5x5_50th</th>\n",
              "      <th>RefComposite_5x5_90th</th>\n",
              "      <th>RhoHV</th>\n",
              "      <th>RhoHV_5x5_10th</th>\n",
              "      <th>RhoHV_5x5_50th</th>\n",
              "      <th>RhoHV_5x5_90th</th>\n",
              "      <th>Zdr</th>\n",
              "      <th>Zdr_5x5_10th</th>\n",
              "      <th>Zdr_5x5_50th</th>\n",
              "      <th>Zdr_5x5_90th</th>\n",
              "      <th>Kdp</th>\n",
              "      <th>Kdp_5x5_10th</th>\n",
              "      <th>Kdp_5x5_50th</th>\n",
              "      <th>Kdp_5x5_90th</th>\n",
              "      <th>Expected</th>\n",
              "    </tr>\n",
              "  </thead>\n",
              "  <tbody>\n",
              "    <tr>\n",
              "      <th>18</th>\n",
              "      <td>3</td>\n",
              "      <td>4.0</td>\n",
              "      <td>10.0</td>\n",
              "      <td>NaN</td>\n",
              "      <td>NaN</td>\n",
              "      <td>NaN</td>\n",
              "      <td>NaN</td>\n",
              "      <td>NaN</td>\n",
              "      <td>NaN</td>\n",
              "      <td>NaN</td>\n",
              "      <td>NaN</td>\n",
              "      <td>NaN</td>\n",
              "      <td>NaN</td>\n",
              "      <td>NaN</td>\n",
              "      <td>NaN</td>\n",
              "      <td>NaN</td>\n",
              "      <td>NaN</td>\n",
              "      <td>NaN</td>\n",
              "      <td>NaN</td>\n",
              "      <td>NaN</td>\n",
              "      <td>NaN</td>\n",
              "      <td>NaN</td>\n",
              "      <td>NaN</td>\n",
              "      <td>26.162014</td>\n",
              "    </tr>\n",
              "    <tr>\n",
              "      <th>19</th>\n",
              "      <td>3</td>\n",
              "      <td>9.0</td>\n",
              "      <td>10.0</td>\n",
              "      <td>NaN</td>\n",
              "      <td>NaN</td>\n",
              "      <td>NaN</td>\n",
              "      <td>NaN</td>\n",
              "      <td>NaN</td>\n",
              "      <td>NaN</td>\n",
              "      <td>NaN</td>\n",
              "      <td>NaN</td>\n",
              "      <td>NaN</td>\n",
              "      <td>NaN</td>\n",
              "      <td>NaN</td>\n",
              "      <td>NaN</td>\n",
              "      <td>NaN</td>\n",
              "      <td>NaN</td>\n",
              "      <td>NaN</td>\n",
              "      <td>NaN</td>\n",
              "      <td>NaN</td>\n",
              "      <td>NaN</td>\n",
              "      <td>NaN</td>\n",
              "      <td>NaN</td>\n",
              "      <td>26.162014</td>\n",
              "    </tr>\n",
              "    <tr>\n",
              "      <th>20</th>\n",
              "      <td>3</td>\n",
              "      <td>14.0</td>\n",
              "      <td>10.0</td>\n",
              "      <td>NaN</td>\n",
              "      <td>NaN</td>\n",
              "      <td>NaN</td>\n",
              "      <td>NaN</td>\n",
              "      <td>NaN</td>\n",
              "      <td>NaN</td>\n",
              "      <td>NaN</td>\n",
              "      <td>NaN</td>\n",
              "      <td>NaN</td>\n",
              "      <td>NaN</td>\n",
              "      <td>NaN</td>\n",
              "      <td>NaN</td>\n",
              "      <td>NaN</td>\n",
              "      <td>NaN</td>\n",
              "      <td>NaN</td>\n",
              "      <td>NaN</td>\n",
              "      <td>NaN</td>\n",
              "      <td>NaN</td>\n",
              "      <td>NaN</td>\n",
              "      <td>NaN</td>\n",
              "      <td>26.162014</td>\n",
              "    </tr>\n",
              "    <tr>\n",
              "      <th>21</th>\n",
              "      <td>3</td>\n",
              "      <td>18.0</td>\n",
              "      <td>10.0</td>\n",
              "      <td>NaN</td>\n",
              "      <td>NaN</td>\n",
              "      <td>NaN</td>\n",
              "      <td>NaN</td>\n",
              "      <td>NaN</td>\n",
              "      <td>NaN</td>\n",
              "      <td>NaN</td>\n",
              "      <td>NaN</td>\n",
              "      <td>NaN</td>\n",
              "      <td>NaN</td>\n",
              "      <td>NaN</td>\n",
              "      <td>NaN</td>\n",
              "      <td>NaN</td>\n",
              "      <td>NaN</td>\n",
              "      <td>NaN</td>\n",
              "      <td>NaN</td>\n",
              "      <td>NaN</td>\n",
              "      <td>NaN</td>\n",
              "      <td>NaN</td>\n",
              "      <td>NaN</td>\n",
              "      <td>26.162014</td>\n",
              "    </tr>\n",
              "    <tr>\n",
              "      <th>22</th>\n",
              "      <td>3</td>\n",
              "      <td>23.0</td>\n",
              "      <td>10.0</td>\n",
              "      <td>NaN</td>\n",
              "      <td>NaN</td>\n",
              "      <td>NaN</td>\n",
              "      <td>NaN</td>\n",
              "      <td>NaN</td>\n",
              "      <td>NaN</td>\n",
              "      <td>NaN</td>\n",
              "      <td>NaN</td>\n",
              "      <td>NaN</td>\n",
              "      <td>NaN</td>\n",
              "      <td>NaN</td>\n",
              "      <td>NaN</td>\n",
              "      <td>NaN</td>\n",
              "      <td>NaN</td>\n",
              "      <td>NaN</td>\n",
              "      <td>NaN</td>\n",
              "      <td>NaN</td>\n",
              "      <td>NaN</td>\n",
              "      <td>NaN</td>\n",
              "      <td>NaN</td>\n",
              "      <td>26.162014</td>\n",
              "    </tr>\n",
              "    <tr>\n",
              "      <th>23</th>\n",
              "      <td>3</td>\n",
              "      <td>28.0</td>\n",
              "      <td>10.0</td>\n",
              "      <td>NaN</td>\n",
              "      <td>NaN</td>\n",
              "      <td>NaN</td>\n",
              "      <td>NaN</td>\n",
              "      <td>NaN</td>\n",
              "      <td>NaN</td>\n",
              "      <td>NaN</td>\n",
              "      <td>NaN</td>\n",
              "      <td>NaN</td>\n",
              "      <td>NaN</td>\n",
              "      <td>NaN</td>\n",
              "      <td>NaN</td>\n",
              "      <td>NaN</td>\n",
              "      <td>NaN</td>\n",
              "      <td>NaN</td>\n",
              "      <td>NaN</td>\n",
              "      <td>NaN</td>\n",
              "      <td>NaN</td>\n",
              "      <td>NaN</td>\n",
              "      <td>NaN</td>\n",
              "      <td>26.162014</td>\n",
              "    </tr>\n",
              "    <tr>\n",
              "      <th>24</th>\n",
              "      <td>3</td>\n",
              "      <td>33.0</td>\n",
              "      <td>10.0</td>\n",
              "      <td>NaN</td>\n",
              "      <td>NaN</td>\n",
              "      <td>NaN</td>\n",
              "      <td>NaN</td>\n",
              "      <td>NaN</td>\n",
              "      <td>NaN</td>\n",
              "      <td>NaN</td>\n",
              "      <td>NaN</td>\n",
              "      <td>NaN</td>\n",
              "      <td>NaN</td>\n",
              "      <td>NaN</td>\n",
              "      <td>NaN</td>\n",
              "      <td>NaN</td>\n",
              "      <td>NaN</td>\n",
              "      <td>NaN</td>\n",
              "      <td>NaN</td>\n",
              "      <td>NaN</td>\n",
              "      <td>NaN</td>\n",
              "      <td>NaN</td>\n",
              "      <td>NaN</td>\n",
              "      <td>26.162014</td>\n",
              "    </tr>\n",
              "    <tr>\n",
              "      <th>25</th>\n",
              "      <td>3</td>\n",
              "      <td>38.0</td>\n",
              "      <td>10.0</td>\n",
              "      <td>NaN</td>\n",
              "      <td>NaN</td>\n",
              "      <td>NaN</td>\n",
              "      <td>NaN</td>\n",
              "      <td>NaN</td>\n",
              "      <td>NaN</td>\n",
              "      <td>NaN</td>\n",
              "      <td>NaN</td>\n",
              "      <td>NaN</td>\n",
              "      <td>NaN</td>\n",
              "      <td>NaN</td>\n",
              "      <td>NaN</td>\n",
              "      <td>NaN</td>\n",
              "      <td>NaN</td>\n",
              "      <td>NaN</td>\n",
              "      <td>NaN</td>\n",
              "      <td>NaN</td>\n",
              "      <td>NaN</td>\n",
              "      <td>NaN</td>\n",
              "      <td>NaN</td>\n",
              "      <td>26.162014</td>\n",
              "    </tr>\n",
              "    <tr>\n",
              "      <th>26</th>\n",
              "      <td>3</td>\n",
              "      <td>43.0</td>\n",
              "      <td>10.0</td>\n",
              "      <td>NaN</td>\n",
              "      <td>NaN</td>\n",
              "      <td>NaN</td>\n",
              "      <td>8.5</td>\n",
              "      <td>NaN</td>\n",
              "      <td>NaN</td>\n",
              "      <td>NaN</td>\n",
              "      <td>8.5</td>\n",
              "      <td>NaN</td>\n",
              "      <td>NaN</td>\n",
              "      <td>NaN</td>\n",
              "      <td>NaN</td>\n",
              "      <td>NaN</td>\n",
              "      <td>NaN</td>\n",
              "      <td>NaN</td>\n",
              "      <td>NaN</td>\n",
              "      <td>NaN</td>\n",
              "      <td>NaN</td>\n",
              "      <td>NaN</td>\n",
              "      <td>NaN</td>\n",
              "      <td>26.162014</td>\n",
              "    </tr>\n",
              "    <tr>\n",
              "      <th>27</th>\n",
              "      <td>3</td>\n",
              "      <td>48.0</td>\n",
              "      <td>10.0</td>\n",
              "      <td>NaN</td>\n",
              "      <td>NaN</td>\n",
              "      <td>NaN</td>\n",
              "      <td>NaN</td>\n",
              "      <td>NaN</td>\n",
              "      <td>NaN</td>\n",
              "      <td>NaN</td>\n",
              "      <td>NaN</td>\n",
              "      <td>NaN</td>\n",
              "      <td>NaN</td>\n",
              "      <td>NaN</td>\n",
              "      <td>NaN</td>\n",
              "      <td>NaN</td>\n",
              "      <td>NaN</td>\n",
              "      <td>NaN</td>\n",
              "      <td>NaN</td>\n",
              "      <td>NaN</td>\n",
              "      <td>NaN</td>\n",
              "      <td>NaN</td>\n",
              "      <td>NaN</td>\n",
              "      <td>26.162014</td>\n",
              "    </tr>\n",
              "    <tr>\n",
              "      <th>28</th>\n",
              "      <td>3</td>\n",
              "      <td>53.0</td>\n",
              "      <td>10.0</td>\n",
              "      <td>NaN</td>\n",
              "      <td>NaN</td>\n",
              "      <td>NaN</td>\n",
              "      <td>NaN</td>\n",
              "      <td>NaN</td>\n",
              "      <td>NaN</td>\n",
              "      <td>NaN</td>\n",
              "      <td>NaN</td>\n",
              "      <td>NaN</td>\n",
              "      <td>NaN</td>\n",
              "      <td>NaN</td>\n",
              "      <td>0.801667</td>\n",
              "      <td>NaN</td>\n",
              "      <td>NaN</td>\n",
              "      <td>NaN</td>\n",
              "      <td>2.0625</td>\n",
              "      <td>NaN</td>\n",
              "      <td>NaN</td>\n",
              "      <td>NaN</td>\n",
              "      <td>NaN</td>\n",
              "      <td>26.162014</td>\n",
              "    </tr>\n",
              "    <tr>\n",
              "      <th>29</th>\n",
              "      <td>3</td>\n",
              "      <td>58.0</td>\n",
              "      <td>10.0</td>\n",
              "      <td>NaN</td>\n",
              "      <td>NaN</td>\n",
              "      <td>NaN</td>\n",
              "      <td>NaN</td>\n",
              "      <td>NaN</td>\n",
              "      <td>NaN</td>\n",
              "      <td>NaN</td>\n",
              "      <td>NaN</td>\n",
              "      <td>NaN</td>\n",
              "      <td>NaN</td>\n",
              "      <td>NaN</td>\n",
              "      <td>NaN</td>\n",
              "      <td>NaN</td>\n",
              "      <td>NaN</td>\n",
              "      <td>NaN</td>\n",
              "      <td>NaN</td>\n",
              "      <td>NaN</td>\n",
              "      <td>NaN</td>\n",
              "      <td>NaN</td>\n",
              "      <td>NaN</td>\n",
              "      <td>26.162014</td>\n",
              "    </tr>\n",
              "  </tbody>\n",
              "</table>\n",
              "</div>"
            ],
            "text/plain": [
              "    Id  minutes_past  radardist_km  ...  Kdp_5x5_50th  Kdp_5x5_90th   Expected\n",
              "18   3           4.0          10.0  ...           NaN           NaN  26.162014\n",
              "19   3           9.0          10.0  ...           NaN           NaN  26.162014\n",
              "20   3          14.0          10.0  ...           NaN           NaN  26.162014\n",
              "21   3          18.0          10.0  ...           NaN           NaN  26.162014\n",
              "22   3          23.0          10.0  ...           NaN           NaN  26.162014\n",
              "23   3          28.0          10.0  ...           NaN           NaN  26.162014\n",
              "24   3          33.0          10.0  ...           NaN           NaN  26.162014\n",
              "25   3          38.0          10.0  ...           NaN           NaN  26.162014\n",
              "26   3          43.0          10.0  ...           NaN           NaN  26.162014\n",
              "27   3          48.0          10.0  ...           NaN           NaN  26.162014\n",
              "28   3          53.0          10.0  ...           NaN           NaN  26.162014\n",
              "29   3          58.0          10.0  ...           NaN           NaN  26.162014\n",
              "\n",
              "[12 rows x 24 columns]"
            ]
          },
          "metadata": {
            "tags": []
          },
          "execution_count": 4
        }
      ]
    },
    {
      "cell_type": "code",
      "metadata": {
        "id": "0mlUcj-DpRMG"
      },
      "source": [
        "ref_present = train[train.Ref.notna()==True]['Id'].unique()\n",
        "train = train[train['Id'].isin(ref_present)]"
      ],
      "execution_count": 5,
      "outputs": []
    },
    {
      "cell_type": "code",
      "metadata": {
        "colab": {
          "base_uri": "https://localhost:8080/"
        },
        "id": "wmIIPfmOqSar",
        "outputId": "1e55fc75-f52b-4ebf-8df8-f0717a40f853"
      },
      "source": [
        "len(train)"
      ],
      "execution_count": 6,
      "outputs": [
        {
          "output_type": "execute_result",
          "data": {
            "text/plain": [
              "9125329"
            ]
          },
          "metadata": {
            "tags": []
          },
          "execution_count": 6
        }
      ]
    },
    {
      "cell_type": "code",
      "metadata": {
        "colab": {
          "base_uri": "https://localhost:8080/"
        },
        "id": "ZFyDuHV_tLYI",
        "outputId": "9a1387b9-0a48-4886-fb82-7429f4cfbcca"
      },
      "source": [
        "train.isna().sum()"
      ],
      "execution_count": 7,
      "outputs": [
        {
          "output_type": "execute_result",
          "data": {
            "text/plain": [
              "Id                             0\n",
              "minutes_past                   0\n",
              "radardist_km                   0\n",
              "Ref                      2775954\n",
              "Ref_5x5_10th             3841387\n",
              "Ref_5x5_50th             2772390\n",
              "Ref_5x5_90th             1706556\n",
              "RefComposite             2429475\n",
              "RefComposite_5x5_10th    3377843\n",
              "RefComposite_5x5_50th    2434061\n",
              "RefComposite_5x5_90th    1471489\n",
              "RhoHV                    4314082\n",
              "RhoHV_5x5_10th           5052173\n",
              "RhoHV_5x5_50th           4300572\n",
              "RhoHV_5x5_90th           3458417\n",
              "Zdr                      4314082\n",
              "Zdr_5x5_10th             5052173\n",
              "Zdr_5x5_50th             4300572\n",
              "Zdr_5x5_90th             3458417\n",
              "Kdp                      5036548\n",
              "Kdp_5x5_10th             5745822\n",
              "Kdp_5x5_50th             5026320\n",
              "Kdp_5x5_90th             4231865\n",
              "Expected                       0\n",
              "dtype: int64"
            ]
          },
          "metadata": {
            "tags": []
          },
          "execution_count": 7
        }
      ]
    },
    {
      "cell_type": "markdown",
      "metadata": {
        "id": "y0I-5-w0uclo"
      },
      "source": [
        "**Imputation**"
      ]
    },
    {
      "cell_type": "code",
      "metadata": {
        "colab": {
          "base_uri": "https://localhost:8080/"
        },
        "id": "lx63ZJmprsyj",
        "outputId": "ff87282e-bca6-4ffe-d702-14bb864699f2"
      },
      "source": [
        "columns_toimpute = train.iloc[:,3:-1].columns.tolist()\n",
        "train.fillna(train.groupby(['Id'])[columns_toimpute].transform('mean'), inplace=True)\n",
        "train.fillna(0.0, inplace=True)\n",
        "train.reset_index(drop=True, inplace=True)\n",
        "train.isna().sum()"
      ],
      "execution_count": 8,
      "outputs": [
        {
          "output_type": "execute_result",
          "data": {
            "text/plain": [
              "Id                       0\n",
              "minutes_past             0\n",
              "radardist_km             0\n",
              "Ref                      0\n",
              "Ref_5x5_10th             0\n",
              "Ref_5x5_50th             0\n",
              "Ref_5x5_90th             0\n",
              "RefComposite             0\n",
              "RefComposite_5x5_10th    0\n",
              "RefComposite_5x5_50th    0\n",
              "RefComposite_5x5_90th    0\n",
              "RhoHV                    0\n",
              "RhoHV_5x5_10th           0\n",
              "RhoHV_5x5_50th           0\n",
              "RhoHV_5x5_90th           0\n",
              "Zdr                      0\n",
              "Zdr_5x5_10th             0\n",
              "Zdr_5x5_50th             0\n",
              "Zdr_5x5_90th             0\n",
              "Kdp                      0\n",
              "Kdp_5x5_10th             0\n",
              "Kdp_5x5_50th             0\n",
              "Kdp_5x5_90th             0\n",
              "Expected                 0\n",
              "dtype: int64"
            ]
          },
          "metadata": {
            "tags": []
          },
          "execution_count": 8
        }
      ]
    },
    {
      "cell_type": "code",
      "metadata": {
        "colab": {
          "base_uri": "https://localhost:8080/"
        },
        "id": "L154p5-wyzBr",
        "outputId": "221cf4f5-03b6-4583-8df0-8ff62d087df4"
      },
      "source": [
        "print(f'Mean Expected {np.mean(train.Expected)}')\n",
        "print(f'Max Expected {np.max(train.Expected)}')"
      ],
      "execution_count": 9,
      "outputs": [
        {
          "output_type": "stream",
          "text": [
            "Mean Expected 22.431513292076517\n",
            "Max Expected 33017.73046875\n"
          ],
          "name": "stdout"
        }
      ]
    },
    {
      "cell_type": "code",
      "metadata": {
        "colab": {
          "base_uri": "https://localhost:8080/",
          "height": 497
        },
        "id": "mTSLA1BPxozj",
        "outputId": "41a1cd67-3ee9-43b6-928e-a652a8d48dcc"
      },
      "source": [
        "import matplotlib.pyplot as plt\n",
        "\n",
        "plt.style.use('seaborn')\n",
        "plt.figure(figsize=(16,8))\n",
        "bins = list(range(0,5100,100))\n",
        "plt.hist(train.Expected.unique(), bins=bins)\n",
        "plt.xlabel('Expected Gauge values')\n",
        "plt.ylabel('Occurence counts')\n",
        "plt.show()"
      ],
      "execution_count": 10,
      "outputs": [
        {
          "output_type": "display_data",
          "data": {
            "image/png": "[encoded data removed]",
            "text/plain": [
              "<Figure size 1152x576 with 1 Axes>"
            ]
          },
          "metadata": {
            "tags": []
          }
        }
      ]
    },
    {
      "cell_type": "code",
      "metadata": {
        "colab": {
          "base_uri": "https://localhost:8080/"
        },
        "id": "r9jTcSPW-O8B",
        "outputId": "a5320116-eb13-43b6-d41b-489a38955a86"
      },
      "source": [
        "# As there are a lot of outliers for expected gauge value, I decided on keeping a threshold of 70.\n",
        "threshold = 70.0\n",
        "train = train[train.Expected <= threshold]\n",
        "len(train)"
      ],
      "execution_count": 11,
      "outputs": [
        {
          "output_type": "execute_result",
          "data": {
            "text/plain": [
              "8914175"
            ]
          },
          "metadata": {
            "tags": []
          },
          "execution_count": 11
        }
      ]
    },
    {
      "cell_type": "markdown",
      "metadata": {
        "id": "n26hvt4yuEdC"
      },
      "source": [
        "**Train Data Transform**"
      ]
    },
    {
      "cell_type": "code",
      "metadata": {
        "colab": {
          "base_uri": "https://localhost:8080/"
        },
        "id": "JaEPoWtCEzCh",
        "outputId": "10b2de91-ffcb-43ca-e570-9ce06c6364eb"
      },
      "source": [
        "num_feat = 22\n",
        "train_groups = train.groupby(\"Id\")\n",
        "train_size = len(train_groups)\n",
        "max_seq = train_groups.size().max()\n",
        "max_seq"
      ],
      "execution_count": 12,
      "outputs": [
        {
          "output_type": "execute_result",
          "data": {
            "text/plain": [
              "19"
            ]
          },
          "metadata": {
            "tags": []
          },
          "execution_count": 12
        }
      ]
    },
    {
      "cell_type": "code",
      "metadata": {
        "id": "X89T0BY6FKKV"
      },
      "source": [
        "X_train = np.zeros((train_size, max_seq, num_feat), dtype=np.float32)\n",
        "y_train = np.zeros(train_size, dtype=np.float32)\n",
        "\n",
        "i = 0\n",
        "for _, group in train_groups:\n",
        "    if i%10000 == 0:\n",
        "      print(i)\n",
        "    X = group.values\n",
        "    seq_len = X.shape[0]\n",
        "    X_train[i,:seq_len,:] = X[:,1:23]\n",
        "    y_train[i] = X[0,23]\n",
        "    i += 1\n",
        "    del X\n",
        "    \n",
        "del train_groups"
      ],
      "execution_count": null,
      "outputs": []
    },
    {
      "cell_type": "code",
      "metadata": {
        "colab": {
          "base_uri": "https://localhost:8080/"
        },
        "id": "4Z0Vb8zjVeFi",
        "outputId": "740be592-4eae-4a3a-bb96-3e02ef2a290e"
      },
      "source": [
        "X_train.shape, y_train.shape"
      ],
      "execution_count": 14,
      "outputs": [
        {
          "output_type": "execute_result",
          "data": {
            "text/plain": [
              "((713894, 19, 22), (713894,))"
            ]
          },
          "metadata": {
            "tags": []
          },
          "execution_count": 14
        }
      ]
    },
    {
      "cell_type": "markdown",
      "metadata": {
        "id": "m_JBgGhiidjt"
      },
      "source": [
        "## Modeling"
      ]
    },
    {
      "cell_type": "code",
      "metadata": {
        "colab": {
          "base_uri": "https://localhost:8080/"
        },
        "id": "2RMpCDOER7c_",
        "outputId": "a4dd5c9f-6794-431c-8154-aad4fcec0d1f"
      },
      "source": [
        "from tensorflow.keras.models import Sequential, Model\n",
        "from tensorflow.keras.layers import LSTM, Dense, Dropout, Bidirectional, TimeDistributed, Flatten, Input, AveragePooling1D\n",
        "from tensorflow.keras.callbacks import EarlyStopping\n",
        "from tensorflow.keras.callbacks import ModelCheckpoint\n",
        "from keras.optimizers import Nadam\n",
        "\n",
        "input = Input((X_train.shape[1], X_train.shape[2]))\n",
        "m = Dense(8)(input)\n",
        "m = Bidirectional(LSTM(64,return_sequences=True))(m)\n",
        "m = TimeDistributed(Dense(32))(m)\n",
        "\n",
        "m = Dropout(0.3)(m)\n",
        "m = Dense(1)(m)\n",
        "\n",
        "model = Model(input, m)\n",
        "\n",
        "# Callbacks\n",
        "es = EarlyStopping(monitor='val_loss', patience=5)\n",
        "model_ckp = ModelCheckpoint('best_model.h5',\n",
        "                            save_best_only=True,\n",
        "                            monitor='val_loss',\n",
        "                            mode='auto')\n",
        "\n",
        "model.compile(loss='mae',\n",
        "              optimizer=Nadam(lr=0.001))\n",
        "model.summary()"
      ],
      "execution_count": 18,
      "outputs": [
        {
          "output_type": "stream",
          "text": [
            "Model: \"model_1\"\n",
            "_________________________________________________________________\n",
            "Layer (type)                 Output Shape              Param #   \n",
            "=================================================================\n",
            "input_2 (InputLayer)         [(None, 19, 22)]          0         \n",
            "_________________________________________________________________\n",
            "dense_4 (Dense)              (None, 19, 8)             184       \n",
            "_________________________________________________________________\n",
            "bidirectional_2 (Bidirection (None, 19, 128)           37376     \n",
            "_________________________________________________________________\n",
            "time_distributed_2 (TimeDist (None, 19, 32)            4128      \n",
            "_________________________________________________________________\n",
            "dropout_1 (Dropout)          (None, 19, 32)            0         \n",
            "_________________________________________________________________\n",
            "dense_6 (Dense)              (None, 19, 1)             33        \n",
            "=================================================================\n",
            "Total params: 41,721\n",
            "Trainable params: 41,721\n",
            "Non-trainable params: 0\n",
            "_________________________________________________________________\n"
          ],
          "name": "stdout"
        }
      ]
    },
    {
      "cell_type": "code",
      "metadata": {
        "colab": {
          "base_uri": "https://localhost:8080/"
        },
        "id": "BlLU4m8AdvGn",
        "outputId": "41dfba5f-6067-4ae9-cdfb-c3299e88fca4"
      },
      "source": [
        "X_train.shape[1], X_train.shape[2]"
      ],
      "execution_count": 16,
      "outputs": [
        {
          "output_type": "execute_result",
          "data": {
            "text/plain": [
              "(19, 22)"
            ]
          },
          "metadata": {
            "tags": []
          },
          "execution_count": 16
        }
      ]
    },
    {
      "cell_type": "code",
      "metadata": {
        "colab": {
          "base_uri": "https://localhost:8080/"
        },
        "id": "6qj-PRJvU9pA",
        "outputId": "e64e7529-c304-4665-e401-0ec194400f25"
      },
      "source": [
        "model.fit(X_train, y_train, \n",
        "         batch_size=256,\n",
        "         epochs=30, \n",
        "         validation_split=0.2,\n",
        "         callbacks=[es, model_ckp])"
      ],
      "execution_count": 19,
      "outputs": [
        {
          "output_type": "stream",
          "text": [
            "Epoch 1/30\n",
            "2231/2231 [==============================] - 178s 78ms/step - loss: 2.4737 - val_loss: 2.3991\n",
            "Epoch 2/30\n",
            "2231/2231 [==============================] - 171s 77ms/step - loss: 2.3280 - val_loss: 2.3888\n",
            "Epoch 3/30\n",
            "2231/2231 [==============================] - 171s 76ms/step - loss: 2.2850 - val_loss: 2.3600\n",
            "Epoch 4/30\n",
            "2231/2231 [==============================] - 174s 78ms/step - loss: 2.2960 - val_loss: 2.3682\n",
            "Epoch 5/30\n",
            "2231/2231 [==============================] - 175s 78ms/step - loss: 2.2683 - val_loss: 2.3528\n",
            "Epoch 6/30\n",
            "2231/2231 [==============================] - 179s 80ms/step - loss: 2.2670 - val_loss: 2.3437\n",
            "Epoch 7/30\n",
            "2231/2231 [==============================] - 179s 80ms/step - loss: 2.2799 - val_loss: 2.3527\n",
            "Epoch 8/30\n",
            "2231/2231 [==============================] - 172s 77ms/step - loss: 2.2431 - val_loss: 2.3412\n",
            "Epoch 9/30\n",
            "2231/2231 [==============================] - 183s 82ms/step - loss: 2.2691 - val_loss: 2.3430\n",
            "Epoch 10/30\n",
            "2231/2231 [==============================] - 177s 79ms/step - loss: 2.2511 - val_loss: 2.3485\n",
            "Epoch 11/30\n",
            "2231/2231 [==============================] - 180s 81ms/step - loss: 2.2519 - val_loss: 2.3457\n",
            "Epoch 12/30\n",
            "2231/2231 [==============================] - 182s 81ms/step - loss: 2.2471 - val_loss: 2.3426\n",
            "Epoch 13/30\n",
            "2231/2231 [==============================] - 172s 77ms/step - loss: 2.2519 - val_loss: 2.3405\n",
            "Epoch 14/30\n",
            "2231/2231 [==============================] - 174s 78ms/step - loss: 2.2481 - val_loss: 2.3417\n",
            "Epoch 15/30\n",
            "2231/2231 [==============================] - 173s 78ms/step - loss: 2.2444 - val_loss: 2.3434\n",
            "Epoch 16/30\n",
            "2231/2231 [==============================] - 174s 78ms/step - loss: 2.2333 - val_loss: 2.3398\n",
            "Epoch 17/30\n",
            "2231/2231 [==============================] - 176s 79ms/step - loss: 2.2298 - val_loss: 2.3427\n",
            "Epoch 18/30\n",
            "2231/2231 [==============================] - 176s 79ms/step - loss: 2.2269 - val_loss: 2.3393\n",
            "Epoch 19/30\n",
            "2231/2231 [==============================] - 174s 78ms/step - loss: 2.2225 - val_loss: 2.3392\n",
            "Epoch 20/30\n",
            "2231/2231 [==============================] - 173s 78ms/step - loss: 2.2200 - val_loss: 2.3504\n",
            "Epoch 21/30\n",
            "2231/2231 [==============================] - 169s 76ms/step - loss: 2.2171 - val_loss: 2.3366\n",
            "Epoch 22/30\n",
            "2231/2231 [==============================] - 170s 76ms/step - loss: 2.2255 - val_loss: 2.3416\n",
            "Epoch 23/30\n",
            "2231/2231 [==============================] - 169s 76ms/step - loss: 2.2116 - val_loss: 2.3431\n",
            "Epoch 24/30\n",
            "2231/2231 [==============================] - 164s 74ms/step - loss: 2.2173 - val_loss: 2.3447\n",
            "Epoch 25/30\n",
            "2231/2231 [==============================] - 164s 73ms/step - loss: 2.2257 - val_loss: 2.3486\n",
            "Epoch 26/30\n",
            "2231/2231 [==============================] - 164s 74ms/step - loss: 2.2118 - val_loss: 2.3433\n"
          ],
          "name": "stdout"
        },
        {
          "output_type": "execute_result",
          "data": {
            "text/plain": [
              "<tensorflow.python.keras.callbacks.History at 0x7f68df4c21d0>"
            ]
          },
          "metadata": {
            "tags": []
          },
          "execution_count": 19
        }
      ]
    }
  ]
}